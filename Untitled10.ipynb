{
  "nbformat": 4,
  "nbformat_minor": 0,
  "metadata": {
    "colab": {
      "name": "Untitled10.ipynb",
      "provenance": [],
      "authorship_tag": "ABX9TyNd1IFdrHZY23QJNG3tsvJk",
      "include_colab_link": true
    },
    "kernelspec": {
      "name": "python3",
      "display_name": "Python 3"
    }
  },
  "cells": [
    {
      "cell_type": "markdown",
      "metadata": {
        "id": "view-in-github",
        "colab_type": "text"
      },
      "source": [
        "<a href=\"https://colab.research.google.com/github/muskan105/python-codes/blob/main/Untitled10.ipynb\" target=\"_parent\"><img src=\"https://colab.research.google.com/assets/colab-badge.svg\" alt=\"Open In Colab\"/></a>"
      ]
    },
    {
      "cell_type": "code",
      "metadata": {
        "colab": {
          "base_uri": "https://localhost:8080/"
        },
        "id": "rCU-EzQxd5LZ",
        "outputId": "bc8c874a-a416-407b-ab61-55683f31f0ac"
      },
      "source": [
        "P = input(\"\\n Enter the principal amount: \")\r\n",
        "T = input(\"\\n Enter the time: \")\r\n",
        "R = input(\"\\n Enter the rate: \")\r\n",
        "Si = (int(P) * float(T) * float(R) ) /100\r\n",
        "Ci = int(P) * (((1 + float(R)/100) ** int(T)) - 1)\r\n",
        "print(\"\\n Simple Interest = \",Si)\r\n",
        "print(\"\\n Compound Interest = \",Ci)"
      ],
      "execution_count": 3,
      "outputs": [
        {
          "output_type": "stream",
          "text": [
            "\n",
            " Enter the principal amount: 1000\n",
            "\n",
            " Enter the time: 5\n",
            "\n",
            " Enter the rate: 3\n",
            "\n",
            " Simple Interest =  150.0\n",
            "\n",
            " Compound Interest =  159.27407430000008\n"
          ],
          "name": "stdout"
        }
      ]
    }
  ]
}